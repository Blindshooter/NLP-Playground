{
 "cells": [
  {
   "cell_type": "code",
   "execution_count": 1,
   "metadata": {
    "collapsed": true
   },
   "outputs": [],
   "source": [
    "import nltk\n",
    "from nltk import ne_chunk, pos_tag, word_tokenize\n",
    "from nltk.tree import Tree\n",
    "import random\n",
    "import spacy\n",
    "from spacy.en import English\n",
    "nlp = English()"
   ]
  },
  {
   "cell_type": "code",
   "execution_count": 2,
   "metadata": {
    "collapsed": true
   },
   "outputs": [],
   "source": [
    "def form_question(start, grouping, i):\n",
    "    x = grouping[:i]+grouping[i+1:]\n",
    "    x1 = [x[1] for x in x]\n",
    "    x2 = \" \".join(x1)\n",
    "    return start+\" \"+x2+\"?\""
   ]
  },
  {
   "cell_type": "code",
   "execution_count": 3,
   "metadata": {
    "collapsed": true
   },
   "outputs": [],
   "source": [
    "def squestion(sentence):\n",
    "    check = nlp(unicode(\"Maybe \"+sentence))\n",
    "    check_tokens = [t.ent_type_ for t in check]\n",
    "    ent = check_tokens[1]\n",
    "    if ent=='':\n",
    "        sentenceq = sentence[0].lower()+sentence[1:]\n",
    "    subj = []\n",
    "    mverb = []\n",
    "    chunks = []\n",
    "    for i in xrange(len(check[1:])):\n",
    "    #for token in check[1:]:\n",
    "        token = check[i+1]\n",
    "        if token.dep_=='nsubj':\n",
    "            subj=[i, token.orth_]\n",
    "        if token.ent_type_=='':\n",
    "            if token.pos_=='VERB' and token.dep_=='ROOT' and check[i].dep_!='aux':\n",
    "                chunks.append(['VERB-aux', 'did'])\n",
    "                chunks.append([token.pos_, token.lemma_])\n",
    "                mverb=['did', token.orth_]\n",
    "            elif token.pos_=='VERB' and token.dep_=='ROOT' and check[i].dep_=='aux':\n",
    "                chunks.append([token.pos_, token.orth_])\n",
    "                mverb=[check[i].orth_, token.orth_]\n",
    "                \n",
    "            #elif token.pos_=='VERB' and token.dep_=='aux':\n",
    "                #chunks.append([token.pos_+'-aux', token.orth_, ])\n",
    "            else:\n",
    "                chunks.append([token.pos_, token.orth_])\n",
    "        else:\n",
    "            chunks.append([token.ent_type_, token.orth_])\n",
    "    \n",
    "    \n",
    "    grouping = [chunks[0]]\n",
    "    for item in chunks[1:]:\n",
    "        #print (item[0], grouping[-1][0])\n",
    "        if item[0]==grouping[-1][0]:\n",
    "            grouping[-1][1]+=' '+item[1]\n",
    "        else:\n",
    "            grouping.append(item)\n",
    "    quest_begin = {'PERSON':'Who', 'GPE':'Where', 'DATE':'When', 'NOUN':'What'}\n",
    "    \n",
    "    #for key in quest_begin.keys():\n",
    "    #for item in grouping:\n",
    "    qlist = []\n",
    "    for i in xrange(len(grouping)):\n",
    "        item = grouping[i]\n",
    "        if item[0] in quest_begin.keys():\n",
    "            start = quest_begin[item[0]]\n",
    "            qlist.append(form_question(start, grouping, i))\n",
    "    \n",
    "    return qlist"
   ]
  },
  {
   "cell_type": "code",
   "execution_count": 6,
   "metadata": {
    "collapsed": false
   },
   "outputs": [
    {
     "data": {
      "text/plain": [
       "[u'Who is going to deploy my solution tomorrow in Lviv?',\n",
       " u'What Sergiy Savarin is going to deploy my tomorrow in Lviv?',\n",
       " u'When Sergiy Savarin is going to deploy my solution in Lviv?',\n",
       " u'Where Sergiy Savarin is going to deploy my solution tomorrow in?']"
      ]
     },
     "execution_count": 6,
     "metadata": {},
     "output_type": "execute_result"
    }
   ],
   "source": [
    "squestion(\"Sergiy Savarin is going to deploy my solution tomorrow in Lviv\")"
   ]
  },
  {
   "cell_type": "code",
   "execution_count": null,
   "metadata": {
    "collapsed": true
   },
   "outputs": [],
   "source": []
  }
 ],
 "metadata": {
  "kernelspec": {
   "display_name": "Python 2",
   "language": "python",
   "name": "python2"
  },
  "language_info": {
   "codemirror_mode": {
    "name": "ipython",
    "version": 2
   },
   "file_extension": ".py",
   "mimetype": "text/x-python",
   "name": "python",
   "nbconvert_exporter": "python",
   "pygments_lexer": "ipython2",
   "version": "2.7.12"
  }
 },
 "nbformat": 4,
 "nbformat_minor": 0
}
